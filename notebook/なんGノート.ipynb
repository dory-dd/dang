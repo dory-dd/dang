{
 "cells": [
  {
   "cell_type": "code",
   "execution_count": 1,
   "metadata": {},
   "outputs": [
    {
     "name": "stdout",
     "output_type": "stream",
     "text": [
      "key                      Int64\n",
      "thread_title            object\n",
      "res_num                  Int64\n",
      "name                    object\n",
      "email                   object\n",
      "comment_date    datetime64[ns]\n",
      "post_id                 object\n",
      "comment                 object\n",
      "dtype: object\n"
     ]
    }
   ],
   "source": [
    "import streamlit as st\n",
    "import pandas as pd\n",
    "import matplotlib.pyplot as plt\n",
    "import japanize_matplotlib\n",
    "import os\n",
    "import sys\n",
    "import numpy as np\n",
    "import seaborn as sns\n",
    "import pandas as pd\n",
    "import locale\n",
    "\n",
    "# ロケールを日本語に固定\n",
    "locale.setlocale(locale.LC_TIME, 'ja_JP.UTF-8')\n",
    "\n",
    "csv_path = '/mnt/c/Documents and Settings/hideki kobayashi/Documents/プログラムに関するメモ/nanG.csv'\n",
    "\n",
    "# カラム名の指定\n",
    "columns = [\"key\", \"thread_title\", \"res_num\", \"name\", \"email\", \"comment_date\", \"post_id\", \"comment\"]\n",
    "\n",
    "# データ型の指定\n",
    "dtype = {\"key\": \"Int64\", \"thread_title\": str, \"res_num\": \"Int64\", \"name\": str, \"email\": str, \"comment_date\": str, \"post_id\": str, \"comment\": str}\n",
    "\n",
    "# CSVファイルの読み込み\n",
    "df = pd.read_csv(csv_path, names=columns, dtype=dtype, parse_dates=[\"comment_date\"], na_values=[\"\"])\n",
    "\n",
    "# 欠損値の埋め方を指定\n",
    "df = df.fillna({\"key\": 0, \"res_num\": 0})\n",
    "\n",
    "# 「Over 1000」を除外\n",
    "df = df[df[\"comment_date\"] != \"Over 1000\"]\n",
    "# comment_dateカラムを日付型に変換\n",
    "df[\"comment_date\"] = pd.to_datetime(df[\"comment_date\"], format=\"%Y/%m/%d(%a) %H:%M:%S.%f\")\n",
    "\n",
    "# 確認\n",
    "print(df.dtypes)"
   ]
  },
  {
   "cell_type": "code",
   "execution_count": 41,
   "metadata": {},
   "outputs": [
    {
     "data": {
      "text/plain": [
       "9784    236\n",
       "7961    182\n",
       "41      154\n",
       "962     148\n",
       "3633    123\n",
       "       ... \n",
       "8758      1\n",
       "8757      1\n",
       "3841      1\n",
       "8755      1\n",
       "6979      1\n",
       "Name: cnt, Length: 13959, dtype: int64"
      ]
     },
     "execution_count": 41,
     "metadata": {},
     "output_type": "execute_result"
    }
   ],
   "source": [
    "nang_hist = df.groupby([\"post_id\"]).size().reset_index(name=\"cnt\").sort_values(by=\"cnt\", ascending=False)\n",
    "nang_hist[\"cnt\"]"
   ]
  },
  {
   "cell_type": "code",
   "execution_count": 62,
   "metadata": {},
   "outputs": [
    {
     "data": {
      "image/png": "[encoded data removed]",
      "text/plain": [
       "<Figure size 1440x432 with 1 Axes>"
      ]
     },
     "metadata": {},
     "output_type": "display_data"
    }
   ],
   "source": [
    "data = nang_hist[\"cnt\"]\n",
    "data = np.ravel(data)\n",
    "bins = range(1, 27, 1)\n",
    "hist, edges = np.histogram(data, bins=bins)\n",
    "df = pd.DataFrame({'度数': hist, '階級': [f\"{int(edges[i])}~{int(edges[i+1])}\" for i in range(len(edges)-1)]})\n",
    "\n",
    "# 可視化する\n",
    "plt.figure(figsize=(20, 6))\n",
    "sns.set(style='whitegrid', font='IPAexGothic')\n",
    "sns.histplot(data, bins=bins, kde=False, color='blue')\n",
    "plt.title('なんG レス回数分布表')\n",
    "plt.xlabel('ID別レス回数')\n",
    "plt.ylabel('頻度')\n",
    "plt.xticks(bins)\n",
    "plt.show()"
   ]
  },
  {
   "cell_type": "code",
   "execution_count": 55,
   "metadata": {},
   "outputs": [
    {
     "ename": "KeyError",
     "evalue": "'post_id'",
     "output_type": "error",
     "traceback": [
      "\u001b[0;31m---------------------------------------------------------------------------\u001b[0m",
      "\u001b[0;31mKeyError\u001b[0m                                  Traceback (most recent call last)",
      "\u001b[1;32m/home/hkobayashi/python_code/3chan/res_sum/なんGノート.ipynb セル 4\u001b[0m in \u001b[0;36m<cell line: 1>\u001b[0;34m()\u001b[0m\n\u001b[0;32m----> <a href='vscode-notebook-cell://wsl%2Bubuntu-20.04/home/hkobayashi/python_code/3chan/res_sum/%E3%81%AA%E3%82%93G%E3%83%8E%E3%83%BC%E3%83%88.ipynb#X14sdnNjb2RlLXJlbW90ZQ%3D%3D?line=0'>1</a>\u001b[0m nang_hist \u001b[39m=\u001b[39m df\u001b[39m.\u001b[39;49mgroupby([\u001b[39m\"\u001b[39;49m\u001b[39mpost_id\u001b[39;49m\u001b[39m\"\u001b[39;49m])\u001b[39m.\u001b[39msize()\u001b[39m.\u001b[39mreset_index(name\u001b[39m=\u001b[39m\u001b[39m\"\u001b[39m\u001b[39mcnt\u001b[39m\u001b[39m\"\u001b[39m)\u001b[39m.\u001b[39msort_values(by\u001b[39m=\u001b[39m\u001b[39m\"\u001b[39m\u001b[39mcnt\u001b[39m\u001b[39m\"\u001b[39m, ascending\u001b[39m=\u001b[39m\u001b[39mFalse\u001b[39;00m)\n",
      "File \u001b[0;32m~/.pyenv/versions/3.10.4/lib/python3.10/site-packages/pandas/core/frame.py:7718\u001b[0m, in \u001b[0;36mDataFrame.groupby\u001b[0;34m(self, by, axis, level, as_index, sort, group_keys, squeeze, observed, dropna)\u001b[0m\n\u001b[1;32m   7713\u001b[0m axis \u001b[39m=\u001b[39m \u001b[39mself\u001b[39m\u001b[39m.\u001b[39m_get_axis_number(axis)\n\u001b[1;32m   7715\u001b[0m \u001b[39m# https://github.com/python/mypy/issues/7642\u001b[39;00m\n\u001b[1;32m   7716\u001b[0m \u001b[39m# error: Argument \"squeeze\" to \"DataFrameGroupBy\" has incompatible type\u001b[39;00m\n\u001b[1;32m   7717\u001b[0m \u001b[39m# \"Union[bool, NoDefault]\"; expected \"bool\"\u001b[39;00m\n\u001b[0;32m-> 7718\u001b[0m \u001b[39mreturn\u001b[39;00m DataFrameGroupBy(\n\u001b[1;32m   7719\u001b[0m     obj\u001b[39m=\u001b[39;49m\u001b[39mself\u001b[39;49m,\n\u001b[1;32m   7720\u001b[0m     keys\u001b[39m=\u001b[39;49mby,\n\u001b[1;32m   7721\u001b[0m     axis\u001b[39m=\u001b[39;49maxis,\n\u001b[1;32m   7722\u001b[0m     level\u001b[39m=\u001b[39;49mlevel,\n\u001b[1;32m   7723\u001b[0m     as_index\u001b[39m=\u001b[39;49mas_index,\n\u001b[1;32m   7724\u001b[0m     sort\u001b[39m=\u001b[39;49msort,\n\u001b[1;32m   7725\u001b[0m     group_keys\u001b[39m=\u001b[39;49mgroup_keys,\n\u001b[1;32m   7726\u001b[0m     squeeze\u001b[39m=\u001b[39;49msqueeze,  \u001b[39m# type: ignore[arg-type]\u001b[39;49;00m\n\u001b[1;32m   7727\u001b[0m     observed\u001b[39m=\u001b[39;49mobserved,\n\u001b[1;32m   7728\u001b[0m     dropna\u001b[39m=\u001b[39;49mdropna,\n\u001b[1;32m   7729\u001b[0m )\n",
      "File \u001b[0;32m~/.pyenv/versions/3.10.4/lib/python3.10/site-packages/pandas/core/groupby/groupby.py:882\u001b[0m, in \u001b[0;36mGroupBy.__init__\u001b[0;34m(self, obj, keys, axis, level, grouper, exclusions, selection, as_index, sort, group_keys, squeeze, observed, mutated, dropna)\u001b[0m\n\u001b[1;32m    879\u001b[0m \u001b[39mif\u001b[39;00m grouper \u001b[39mis\u001b[39;00m \u001b[39mNone\u001b[39;00m:\n\u001b[1;32m    880\u001b[0m     \u001b[39mfrom\u001b[39;00m \u001b[39mpandas\u001b[39;00m\u001b[39m.\u001b[39;00m\u001b[39mcore\u001b[39;00m\u001b[39m.\u001b[39;00m\u001b[39mgroupby\u001b[39;00m\u001b[39m.\u001b[39;00m\u001b[39mgrouper\u001b[39;00m \u001b[39mimport\u001b[39;00m get_grouper\n\u001b[0;32m--> 882\u001b[0m     grouper, exclusions, obj \u001b[39m=\u001b[39m get_grouper(\n\u001b[1;32m    883\u001b[0m         obj,\n\u001b[1;32m    884\u001b[0m         keys,\n\u001b[1;32m    885\u001b[0m         axis\u001b[39m=\u001b[39;49maxis,\n\u001b[1;32m    886\u001b[0m         level\u001b[39m=\u001b[39;49mlevel,\n\u001b[1;32m    887\u001b[0m         sort\u001b[39m=\u001b[39;49msort,\n\u001b[1;32m    888\u001b[0m         observed\u001b[39m=\u001b[39;49mobserved,\n\u001b[1;32m    889\u001b[0m         mutated\u001b[39m=\u001b[39;49m\u001b[39mself\u001b[39;49m\u001b[39m.\u001b[39;49mmutated,\n\u001b[1;32m    890\u001b[0m         dropna\u001b[39m=\u001b[39;49m\u001b[39mself\u001b[39;49m\u001b[39m.\u001b[39;49mdropna,\n\u001b[1;32m    891\u001b[0m     )\n\u001b[1;32m    893\u001b[0m \u001b[39mself\u001b[39m\u001b[39m.\u001b[39mobj \u001b[39m=\u001b[39m obj\n\u001b[1;32m    894\u001b[0m \u001b[39mself\u001b[39m\u001b[39m.\u001b[39maxis \u001b[39m=\u001b[39m obj\u001b[39m.\u001b[39m_get_axis_number(axis)\n",
      "File \u001b[0;32m~/.pyenv/versions/3.10.4/lib/python3.10/site-packages/pandas/core/groupby/grouper.py:882\u001b[0m, in \u001b[0;36mget_grouper\u001b[0;34m(obj, key, axis, level, sort, observed, mutated, validate, dropna)\u001b[0m\n\u001b[1;32m    880\u001b[0m         in_axis, level, gpr \u001b[39m=\u001b[39m \u001b[39mFalse\u001b[39;00m, gpr, \u001b[39mNone\u001b[39;00m\n\u001b[1;32m    881\u001b[0m     \u001b[39melse\u001b[39;00m:\n\u001b[0;32m--> 882\u001b[0m         \u001b[39mraise\u001b[39;00m \u001b[39mKeyError\u001b[39;00m(gpr)\n\u001b[1;32m    883\u001b[0m \u001b[39melif\u001b[39;00m \u001b[39misinstance\u001b[39m(gpr, Grouper) \u001b[39mand\u001b[39;00m gpr\u001b[39m.\u001b[39mkey \u001b[39mis\u001b[39;00m \u001b[39mnot\u001b[39;00m \u001b[39mNone\u001b[39;00m:\n\u001b[1;32m    884\u001b[0m     \u001b[39m# Add key to exclusions\u001b[39;00m\n\u001b[1;32m    885\u001b[0m     exclusions\u001b[39m.\u001b[39madd(gpr\u001b[39m.\u001b[39mkey)\n",
      "\u001b[0;31mKeyError\u001b[0m: 'post_id'"
     ]
    }
   ],
   "source": [
    "nang_hist = df.groupby([\"post_id\"]).size().reset_index(name=\"cnt\").sort_values(by=\"cnt\", ascending=False)"
   ]
  },
  {
   "cell_type": "code",
   "execution_count": null,
   "metadata": {},
   "outputs": [],
   "source": []
  }
 ],
 "metadata": {
  "kernelspec": {
   "display_name": "Python 3",
   "language": "python",
   "name": "python3"
  },
  "language_info": {
   "codemirror_mode": {
    "name": "ipython",
    "version": 3
   },
   "file_extension": ".py",
   "mimetype": "text/x-python",
   "name": "python",
   "nbconvert_exporter": "python",
   "pygments_lexer": "ipython3",
   "version": "3.10.4"
  },
  "orig_nbformat": 4
 },
 "nbformat": 4,
 "nbformat_minor": 2
}
